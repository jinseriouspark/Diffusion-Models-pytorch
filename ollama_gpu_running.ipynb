{
  "cells": [
    {
      "cell_type": "markdown",
      "metadata": {
        "id": "view-in-github",
        "colab_type": "text"
      },
      "source": [
        "<a href=\"https://colab.research.google.com/github/jinseriouspark/Diffusion-Models-pytorch/blob/main/ollama_gpu_running.ipynb\" target=\"_parent\"><img src=\"https://colab.research.google.com/assets/colab-badge.svg\" alt=\"Open In Colab\"/></a>"
      ]
    },
    {
      "cell_type": "markdown",
      "source": [
        "- colab으로 사용할 수 있는 gpu를 local 또는 다른 노트북에서 사용하기 위해 켜두는 코드입니다.\n",
        "- [ngrok](https://ngrok.com/)에 계정을 생성하고, 무료 버전을 이용할 수 있는 토큰을 받아 cred.txt로 저장하고 실행하였습니다.\n",
        "- 마지막 코드 실행 시, 출력물 중 url 주소를 따로 저장해주셔야 합니다."
      ],
      "metadata": {
        "id": "YDyRK9dOoBla"
      }
    },
    {
      "cell_type": "code",
      "execution_count": null,
      "metadata": {
        "collapsed": true,
        "id": "Vz4wHNkeaGFR"
      },
      "outputs": [],
      "source": [
        "!curl -fsSL https://ollama.com/install.sh | sh\n",
        "!echo 'debconf debconf/frontend select Noninteractive' | sudo debconf-set-selections\n",
        "!sudo apt-get update && sudo apt-get install -y cuda-drivers\n",
        "!pip install pyngrok\n"
      ]
    },
    {
      "cell_type": "code",
      "execution_count": 2,
      "metadata": {
        "id": "3Fyw-i_2aXYg"
      },
      "outputs": [],
      "source": [
        "from pyngrok import ngrok\n",
        "with open('/content/drive/MyDrive/2024/keyword_extractor/cred.txt', 'r') as f:\n",
        "  token = [r.strip() for r in f.readlines()]"
      ]
    },
    {
      "cell_type": "code",
      "execution_count": 3,
      "metadata": {
        "id": "gOIRuEh8aYEt",
        "colab": {
          "base_uri": "https://localhost:8080/"
        },
        "outputId": "5d02c104-b78e-49a4-90c2-c69da0d185ac"
      },
      "outputs": [
        {
          "output_type": "stream",
          "name": "stdout",
          "text": []
        }
      ],
      "source": [
        "ngrok.set_auth_token(token[2])"
      ]
    },
    {
      "cell_type": "code",
      "execution_count": 4,
      "metadata": {
        "id": "uHH2NVNzaY4H"
      },
      "outputs": [],
      "source": [
        "import os\n",
        "import asyncio\n",
        "\n",
        "# set LD_LIBRARY_PATH\n",
        "os.environ.update({'LD_LIBRARY_PATH': '/usr/lib64-nvidia'})"
      ]
    },
    {
      "cell_type": "code",
      "execution_count": null,
      "metadata": {
        "id": "NMBMyWCNaaHR"
      },
      "outputs": [],
      "source": [
        "# 이 부분 코드 실행하고 나서, 처음에 등장하는 ngrok url 주소를 따로 저장해주셔야 합니다.\n",
        "# 예시 : 아래에서 https://71e8-35-237-75-201.ngrok-free.app\n",
        "#  t=2024-05-24T03:29:01+0000 lvl=info msg=\"started tunnel\" obj=tunnels name=command_line addr=http://localhost:11434 url=https://71e8-35-237-75-201.ngrok-free.app\n",
        "\n",
        "\n",
        "async def run_process(cmd):\n",
        "  print('>>> starting', *cmd)\n",
        "  p = await asyncio.subprocess.create_subprocess_exec(\n",
        "      *cmd,\n",
        "      stdout=asyncio.subprocess.PIPE,\n",
        "      stderr=asyncio.subprocess.PIPE,\n",
        "  )\n",
        "\n",
        "  async def pipe(lines):\n",
        "    async for line in lines:\n",
        "      print(line.strip().decode('utf-8'))\n",
        "\n",
        "  await asyncio.gather(\n",
        "      pipe(p.stdout),\n",
        "      pipe(p.stderr),\n",
        "  )\n",
        "from IPython.display import clear_output\n",
        "clear_output()\n",
        "\n",
        "\n",
        "await asyncio.gather(\n",
        "run_process(['ollama', 'serve']),\n",
        "run_process(['ngrok', 'http', '--log', 'stderr', '11434', '--host-header=\"localhost:11434\"']),\n",
        "run_process(['ollama', 'pull', 'gemma:7b-instruct']), # 사용할 모델 pull하는 부분\n",
        "run_process(['ollama', 'pull', 'llama3:8b']),\n",
        "run_process(['ollama', 'pull', 'wizardlm2:7b'])\n",
        ")\n"
      ]
    }
  ],
  "metadata": {
    "accelerator": "GPU",
    "colab": {
      "gpuType": "T4",
      "machine_shape": "hm",
      "provenance": [],
      "mount_file_id": "16vZemAB_2KewI1CLlUcozhBo1Jg1JnLz",
      "authorship_tag": "ABX9TyPfFWZLqBP0komF401cB4Z2",
      "include_colab_link": true
    },
    "kernelspec": {
      "display_name": "Python 3",
      "name": "python3"
    },
    "language_info": {
      "name": "python"
    }
  },
  "nbformat": 4,
  "nbformat_minor": 0
}